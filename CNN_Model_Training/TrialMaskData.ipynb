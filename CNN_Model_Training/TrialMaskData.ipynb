{
 "cells": [
  {
   "cell_type": "code",
   "execution_count": 1,
   "metadata": {
    "id": "lbcdSrDUJvBr"
   },
   "outputs": [],
   "source": [
    "import os\n",
    "import numpy as np\n",
    "import pandas as pd\n",
    "from PIL import Image\n",
    "from time import time\n",
    "from matplotlib import pyplot as plt\n",
    "from IPython.display import display\n",
    "import torch\n",
    "import torch.nn as nn\n",
    "import torchvision\n",
    "import torchvision.transforms as transforms\n",
    "from torchsummary import summary\n",
    "from torchvision import models\n",
    "import torch.optim as optim"
   ]
  },
  {
   "cell_type": "code",
   "execution_count": 2,
   "metadata": {
    "colab": {
     "base_uri": "https://localhost:8080/"
    },
    "id": "Y_aD-nF4KtiG",
    "outputId": "e7e7be7b-4991-485c-bba3-4a48a167d731"
   },
   "outputs": [
    {
     "name": "stdout",
     "output_type": "stream",
     "text": [
      "Using: cuda\n"
     ]
    }
   ],
   "source": [
    "device = torch.device('cuda' if torch.cuda.is_available() else 'cpu')\n",
    "print('Using:', device)"
   ]
  },
  {
   "cell_type": "code",
   "execution_count": 3,
   "metadata": {
    "id": "onvBuv_UsIst"
   },
   "outputs": [],
   "source": [
    "batch_size = 32\n",
    "epochs_range = 15"
   ]
  },
  {
   "cell_type": "code",
   "execution_count": 4,
   "metadata": {
    "id": "TfSFqGQrKykZ"
   },
   "outputs": [],
   "source": [
    "train_dataset_path = '/content/drive/MyDrive/Visual Recognition/Mask_Data/Train_Data'\n",
    "test_dataset_path = '/content/drive/MyDrive/Visual Recognition/Mask_Data/Test_Data/test'\n",
    "\n",
    "transform = transforms.Compose([\n",
    "    transforms.Resize(256),\n",
    "    transforms.CenterCrop(100),\n",
    "    transforms.ToTensor(),\n",
    "    transforms.Normalize(mean=[0.485, 0.456, 0.406], std=[0.229, 0.224, 0.225]),\n",
    "])\n",
    "\n",
    "train_dataset = torchvision.datasets.ImageFolder(train_dataset_path, transform=transform)\n",
    "test_dataset = torchvision.datasets.ImageFolder(test_dataset_path, transform=transform)\n",
    "\n",
    "trainloader = torch.utils.data.DataLoader(train_dataset, batch_size=batch_size, shuffle=True, num_workers=2)\n",
    "testloader = torch.utils.data.DataLoader(test_dataset, batch_size=batch_size, shuffle=True, num_workers=2)"
   ]
  },
  {
   "cell_type": "code",
   "execution_count": 5,
   "metadata": {
    "colab": {
     "base_uri": "https://localhost:8080/"
    },
    "id": "VjH5t77DL7km",
    "outputId": "2beee04a-4829-4a46-c80d-31fe6f8c0b92"
   },
   "outputs": [
    {
     "name": "stdout",
     "output_type": "stream",
     "text": [
      "torch.Size([32, 3, 100, 100])\n"
     ]
    }
   ],
   "source": [
    "i = 0\n",
    "for i, data in enumerate(trainloader, 0):\n",
    "  print(data[0].shape)\n",
    "  break"
   ]
  },
  {
   "cell_type": "code",
   "execution_count": 6,
   "metadata": {
    "colab": {
     "base_uri": "https://localhost:8080/"
    },
    "id": "6Y8joljzNTTp",
    "outputId": "00ea7aee-4caf-4890-9f7e-ca3929705280"
   },
   "outputs": [
    {
     "name": "stdout",
     "output_type": "stream",
     "text": [
      "{0: 'with_mask', 1: 'without_mask'}\n",
      "[0, 1]\n",
      "['with_mask', 'without_mask']\n"
     ]
    }
   ],
   "source": [
    "data_path = '/content/drive/MyDrive/Visual Recognition/Mask_Data/Train_Data'\n",
    "categories = os.listdir(data_path)\n",
    "labels = [i for i in range(len(categories))]\n",
    "\n",
    "label_dict = dict(zip(labels, categories))\n",
    "\n",
    "print(label_dict)\n",
    "print(labels)\n",
    "print(categories)"
   ]
  },
  {
   "cell_type": "code",
   "execution_count": 11,
   "metadata": {
    "id": "4G0OUge8gCkc"
   },
   "outputs": [],
   "source": [
    "import torch.nn as nn\n",
    "import torch.nn.functional as F\n",
    "\n",
    "class ConvNet(nn.Module):\n",
    "    def __init__(self):\n",
    "        super(ConvNet, self).__init__()\n",
    "        self.conv1 = nn.Conv2d(in_channels=3, out_channels=200, kernel_size=(3,3))\n",
    "        self.pool = nn.MaxPool2d(2, 2)\n",
    "        self.conv2 = nn.Conv2d(in_channels=200, out_channels=100, kernel_size=(2,2))\n",
    "        self.Dropout = nn.Dropout(0.5)\n",
    "        self.fc1 = nn.Linear(in_features=24*24*100, out_features=50)\n",
    "        self.fc2 = nn.Linear(in_features=50, out_features=2)\n",
    "\n",
    "    def forward(self, x):\n",
    "        x = F.relu(self.conv1(x)) #98*98*200\n",
    "        x = self.pool(x) #49*49*200\n",
    "        x = F.relu(self.conv2(x)) #48*48*100\n",
    "        x = self.pool(x) #24*24*100\n",
    "        x = self.Dropout(x)\n",
    "        x = x.view(-1, 24 * 24 * 100)\n",
    "        x = F.relu(self.fc1(x))\n",
    "        x = F.softmax(self.fc2(x))\n",
    "        return x\n",
    "\n",
    "net = ConvNet().to(device)"
   ]
  },
  {
   "cell_type": "code",
   "execution_count": 12,
   "metadata": {
    "id": "rZZ6PCgyNnHb"
   },
   "outputs": [],
   "source": [
    "# model = models.alexnet(pretrained=True)\n",
    "# # Loss\n",
    "criterion = nn.CrossEntropyLoss()\n",
    "\n",
    "# #Optimizer(SGD)\n",
    "# optimizer = optim.SGD(net.parameters(), lr=0.001, momentum=0.9)\n",
    "optimizer = optim.Adam(net.parameters(), lr = 0.001)"
   ]
  },
  {
   "cell_type": "code",
   "execution_count": 13,
   "metadata": {
    "colab": {
     "base_uri": "https://localhost:8080/"
    },
    "id": "JGUiMzwmOYdu",
    "outputId": "eea4787b-4510-4334-807e-d26db81bc49e"
   },
   "outputs": [
    {
     "name": "stdout",
     "output_type": "stream",
     "text": [
      "Trainable parameters:\n",
      "conv1.weight \t\t 5400\n",
      "conv1.bias \t\t 200\n",
      "conv2.weight \t\t 80000\n",
      "conv2.bias \t\t 100\n",
      "fc1.weight \t\t 2880000\n",
      "fc1.bias \t\t 50\n",
      "fc2.weight \t\t 100\n",
      "fc2.bias \t\t 2\n",
      "----------------------------------\n",
      "Total \t\t     2965852\n"
     ]
    }
   ],
   "source": [
    "total = 0\n",
    "print('Trainable parameters:')\n",
    "for name, param in net.named_parameters():\n",
    "    if param.requires_grad:\n",
    "        print(name, '\\t\\t', param.numel())\n",
    "        total += param.numel()\n",
    "print('----------------------------------')\n",
    "print('Total', '\\t\\t    ', total)"
   ]
  },
  {
   "cell_type": "code",
   "execution_count": 14,
   "metadata": {
    "colab": {
     "base_uri": "https://localhost:8080/"
    },
    "id": "tXGeF4BvOaKk",
    "outputId": "1682c902-3778-4655-bd8b-e89b6e1ff30f"
   },
   "outputs": [
    {
     "name": "stderr",
     "output_type": "stream",
     "text": [
      "/usr/local/lib/python3.7/dist-packages/ipykernel_launcher.py:22: UserWarning: Implicit dimension choice for softmax has been deprecated. Change the call to include dim=X as an argument.\n"
     ]
    },
    {
     "name": "stdout",
     "output_type": "stream",
     "text": [
      "Finished Training of Model\n"
     ]
    }
   ],
   "source": [
    "for epoch in range(epochs_range):  # loop over the dataset multiple times\n",
    "    running_loss = 0.0\n",
    "    for i, data in enumerate(trainloader, 0):\n",
    "        # get the inputs; data is a list of [inputs, labels]\n",
    "        inputs, labels = data[0].to(device), data[1].to(device)\n",
    "\n",
    "        # zero the parameter gradients\n",
    "        optimizer.zero_grad()\n",
    "\n",
    "        # forward + backward + optimize\n",
    "        output = net(inputs)\n",
    "        loss = criterion(output, labels)\n",
    "        loss.backward()\n",
    "        optimizer.step()\n",
    "\n",
    "        # print statistics\n",
    "        running_loss += loss.item()\n",
    "        if i % 43 == 42:    # print every 43 mini-batches\n",
    "            print('[%d, %5d] loss: %.3f' %\n",
    "                  (epoch + 1, i + 1, running_loss / 43))\n",
    "            running_loss = 0.0\n",
    "\n",
    "print('Finished Training of Model')"
   ]
  },
  {
   "cell_type": "code",
   "execution_count": 15,
   "metadata": {
    "colab": {
     "base_uri": "https://localhost:8080/"
    },
    "id": "TLi0Zge-Q0tA",
    "outputId": "021f5de1-b21b-40b4-b234-71fb0333f8a3"
   },
   "outputs": [
    {
     "name": "stderr",
     "output_type": "stream",
     "text": [
      "/usr/local/lib/python3.7/dist-packages/ipykernel_launcher.py:22: UserWarning: Implicit dimension choice for softmax has been deprecated. Change the call to include dim=X as an argument.\n"
     ]
    },
    {
     "name": "stdout",
     "output_type": "stream",
     "text": [
      "Accuracy of the network on the test images: 95 %\n"
     ]
    }
   ],
   "source": [
    "correct = 0\n",
    "total = 0\n",
    "with torch.no_grad():\n",
    "    for i, data in enumerate(testloader, 0):\n",
    "        images, labels = data[0].to(device), data[1].to(device)\n",
    "        outputs = net(images)\n",
    "        _, predicted = torch.max(outputs.data, 1)\n",
    "        total += labels.size(0)\n",
    "        correct += (predicted == labels).sum().item()\n",
    "\n",
    "print('Accuracy of the network on the test images: %d %%' % (100 * correct / total))"
   ]
  },
  {
   "cell_type": "code",
   "execution_count": 18,
   "metadata": {
    "id": "BdS3E__pSZP7"
   },
   "outputs": [],
   "source": [
    "path = \"/content/drive/MyDrive/Visual Recognition/Mask_Data/model95.pth\"\n",
    "torch.save(net, path)\n",
    "# Then later:\n",
    "# model = torch.load(filepath)"
   ]
  },
  {
   "cell_type": "code",
   "execution_count": 19,
   "metadata": {
    "colab": {
     "base_uri": "https://localhost:8080/"
    },
    "id": "zvZOlr5LTiPq",
    "outputId": "83a1224a-25e6-4ea1-c88e-15c9dab30d4a"
   },
   "outputs": [
    {
     "data": {
      "text/plain": [
       "ConvNet(\n",
       "  (conv1): Conv2d(3, 200, kernel_size=(3, 3), stride=(1, 1))\n",
       "  (pool): MaxPool2d(kernel_size=2, stride=2, padding=0, dilation=1, ceil_mode=False)\n",
       "  (conv2): Conv2d(200, 100, kernel_size=(2, 2), stride=(1, 1))\n",
       "  (Dropout): Dropout(p=0.5, inplace=False)\n",
       "  (fc1): Linear(in_features=57600, out_features=50, bias=True)\n",
       "  (fc2): Linear(in_features=50, out_features=2, bias=True)\n",
       ")"
      ]
     },
     "execution_count": 19,
     "metadata": {
      "tags": []
     },
     "output_type": "execute_result"
    }
   ],
   "source": [
    "model = torch.load(path)\n",
    "model.eval()"
   ]
  }
 ],
 "metadata": {
  "accelerator": "GPU",
  "colab": {
   "collapsed_sections": [],
   "name": "TrialMaskData.ipynb",
   "provenance": []
  },
  "kernelspec": {
   "display_name": "Python 3",
   "language": "python",
   "name": "python3"
  },
  "language_info": {
   "codemirror_mode": {
    "name": "ipython",
    "version": 3
   },
   "file_extension": ".py",
   "mimetype": "text/x-python",
   "name": "python",
   "nbconvert_exporter": "python",
   "pygments_lexer": "ipython3",
   "version": "3.6.11"
  }
 },
 "nbformat": 4,
 "nbformat_minor": 1
}
